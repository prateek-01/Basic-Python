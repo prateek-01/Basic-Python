{
 "cells": [
  {
   "cell_type": "code",
   "execution_count": null,
   "metadata": {},
   "outputs": [],
   "source": [
    "# Given an integer array A of size n. Find and print all the leaders present in the input array. An array element A[i] is called Leader, if all the elements following it (i.e. present at its right) are less than or equal to A[i].\n",
    "# Print all the leader elements separated by space and in the same order they are present in the input array.\n",
    "\n",
    "\n",
    "n = int(input())\n",
    "\n",
    "\n",
    "list2= [int(i) for i in input().split()]\n",
    "\n",
    "\n",
    "leaders = []\n",
    "\n",
    "for i in range(0,n-1):\n",
    "    for j in range(i+1,n):\n",
    "        if list2[i] >= list2[j] :\n",
    "            pass\n",
    "        else:\n",
    "            break\n",
    "        if j == n-1 :\n",
    "            leaders.append(list2[i])\n",
    "    \n",
    "    \n",
    "leaders.append(list2[n-1])\n",
    "string1 = [str(leaders[i]) for i in range(0,len(leaders))]\n",
    "print(' '.join(string1))\n",
    "      "
   ]
  }
 ],
 "metadata": {
  "kernelspec": {
   "display_name": "Python 3",
   "language": "python",
   "name": "python3"
  },
  "language_info": {
   "codemirror_mode": {
    "name": "ipython",
    "version": 3
   },
   "file_extension": ".py",
   "mimetype": "text/x-python",
   "name": "python",
   "nbconvert_exporter": "python",
   "pygments_lexer": "ipython3",
   "version": "3.5.4"
  }
 },
 "nbformat": 4,
 "nbformat_minor": 2
}
