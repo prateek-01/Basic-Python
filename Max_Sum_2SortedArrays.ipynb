{
 "cells": [
  {
   "cell_type": "code",
   "execution_count": null,
   "metadata": {},
   "outputs": [],
   "source": [
    "###Given 2 sorted arrays (in increasing order), find a path through the intersections that produces maximum sum and return the maximum sum.\n",
    "# That is, we can switch from one array to another array only at common elements.\n",
    "# If no intersection element is present, we need to take sum of all elements from the array with greater sum.\n",
    "\n",
    "\n",
    "\n",
    "\n",
    "n1 = int(input())\n",
    "str1 = input()\n",
    "\n",
    "n2 = int(input())\n",
    "str2 = input()\n",
    "\n",
    "list1 = [int(x) for x in str1.strip().split(\" \")]\n",
    "list2 = [int(x) for x in str2.strip().split(\" \")]\n",
    "\n",
    "max_sum = 0\n",
    "sum1 = 0\n",
    "sum2 = 0\n",
    "\n",
    "\n",
    "\n",
    "i= 0\n",
    "j=0\n",
    "intersection = False\n",
    "\n",
    "\n",
    "\n",
    "while(i < n1 and j< n2):\n",
    "        \n",
    "          \n",
    "        if(list1[i]<list2[j]):\n",
    "            sum1 +=list1[i]\n",
    "            i+=1\n",
    "        \n",
    "        \n",
    "        elif(list1[i]>list2[j]):\n",
    "            sum2 += list2[j]\n",
    "            j+=1"
   ]
  }
 ],
 "metadata": {
  "kernelspec": {
   "display_name": "Python 3",
   "language": "python",
   "name": "python3"
  },
  "language_info": {
   "codemirror_mode": {
    "name": "ipython",
    "version": 3
   },
   "file_extension": ".py",
   "mimetype": "text/x-python",
   "name": "python",
   "nbconvert_exporter": "python",
   "pygments_lexer": "ipython3",
   "version": "3.5.4"
  }
 },
 "nbformat": 4,
 "nbformat_minor": 2
}
